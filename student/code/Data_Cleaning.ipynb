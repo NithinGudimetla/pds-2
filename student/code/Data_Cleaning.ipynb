{
  "nbformat": 4,
  "nbformat_minor": 0,
  "metadata": {
    "colab": {
      "provenance": []
    },
    "kernelspec": {
      "name": "python3",
      "display_name": "Python 3"
    },
    "language_info": {
      "name": "python"
    }
  },
  "cells": [
    {
      "cell_type": "code",
      "source": [
        "import pandas as pd\n",
        "import numpy as np\n",
        "import seaborn as sns\n",
        "import matplotlib.pyplot as plt\n"
      ],
      "metadata": {
        "id": "n4KMcIJIgKIj"
      },
      "execution_count": null,
      "outputs": []
    },
    {
      "cell_type": "code",
      "source": [
        "# Load the dataset\n",
        "file_path = \"StudentsPerformance.csv\"  # Update the file path if needed\n",
        "students_data = pd.read_csv(file_path)\n"
      ],
      "metadata": {
        "id": "S4jLlUu6gLsE"
      },
      "execution_count": null,
      "outputs": []
    },
    {
      "cell_type": "code",
      "source": [
        "# Display basic information about the dataset\n",
        "print(\"Basic Information About Dataset:\")\n",
        "print(students_data.info())\n",
        "print(\"\\nFirst 5 Rows:\")\n",
        "print(students_data.head())\n",
        "\n",
        "# Check for missing values\n",
        "print(\"\\nMissing Values in Dataset:\")\n",
        "print(students_data.isnull().sum())\n",
        "\n",
        "# Handling Missing Values (if any)\n",
        "students_data = students_data.dropna()  # Dropping missing values (modify as needed)\n",
        "\n",
        "# Check for duplicate rows\n",
        "print(\"\\nDuplicate Rows in Dataset:\", students_data.duplicated().sum())\n",
        "\n",
        "# Removing Duplicates (if any)\n",
        "students_data = students_data.drop_duplicates()\n",
        "\n",
        "# Converting column names to lowercase for consistency\n",
        "students_data.columns = students_data.columns.str.lower().str.replace(' ', '_')\n",
        "\n",
        "# Basic statistical summary of numerical columns\n",
        "print(\"\\nStatistical Summary of Scores:\")\n",
        "print(students_data.describe())\n"
      ],
      "metadata": {
        "id": "Mb9mzQ2igOqS",
        "outputId": "32d9e67c-922a-42a4-f462-bc468e7b3fd1",
        "colab": {
          "base_uri": "https://localhost:8080/"
        }
      },
      "execution_count": null,
      "outputs": [
        {
          "output_type": "stream",
          "name": "stdout",
          "text": [
            "Basic Information About Dataset:\n",
            "<class 'pandas.core.frame.DataFrame'>\n",
            "RangeIndex: 1000 entries, 0 to 999\n",
            "Data columns (total 8 columns):\n",
            " #   Column                       Non-Null Count  Dtype \n",
            "---  ------                       --------------  ----- \n",
            " 0   gender                       1000 non-null   object\n",
            " 1   race/ethnicity               1000 non-null   object\n",
            " 2   parental level of education  1000 non-null   object\n",
            " 3   lunch                        1000 non-null   object\n",
            " 4   test preparation course      1000 non-null   object\n",
            " 5   math score                   1000 non-null   int64 \n",
            " 6   reading score                1000 non-null   int64 \n",
            " 7   writing score                1000 non-null   int64 \n",
            "dtypes: int64(3), object(5)\n",
            "memory usage: 62.6+ KB\n",
            "None\n",
            "\n",
            "First 5 Rows:\n",
            "   gender race/ethnicity parental level of education         lunch  \\\n",
            "0  female        group B           bachelor's degree      standard   \n",
            "1  female        group C                some college      standard   \n",
            "2  female        group B             master's degree      standard   \n",
            "3    male        group A          associate's degree  free/reduced   \n",
            "4    male        group C                some college      standard   \n",
            "\n",
            "  test preparation course  math score  reading score  writing score  \n",
            "0                    none          72             72             74  \n",
            "1               completed          69             90             88  \n",
            "2                    none          90             95             93  \n",
            "3                    none          47             57             44  \n",
            "4                    none          76             78             75  \n",
            "\n",
            "Missing Values in Dataset:\n",
            "gender                         0\n",
            "race/ethnicity                 0\n",
            "parental level of education    0\n",
            "lunch                          0\n",
            "test preparation course        0\n",
            "math score                     0\n",
            "reading score                  0\n",
            "writing score                  0\n",
            "dtype: int64\n",
            "\n",
            "Duplicate Rows in Dataset: 0\n",
            "\n",
            "Statistical Summary of Scores:\n",
            "       math_score  reading_score  writing_score\n",
            "count  1000.00000    1000.000000    1000.000000\n",
            "mean     66.08900      69.169000      68.054000\n",
            "std      15.16308      14.600192      15.195657\n",
            "min       0.00000      17.000000      10.000000\n",
            "25%      57.00000      59.000000      57.750000\n",
            "50%      66.00000      70.000000      69.000000\n",
            "75%      77.00000      79.000000      79.000000\n",
            "max     100.00000     100.000000     100.000000\n"
          ]
        }
      ]
    },
    {
      "cell_type": "code",
      "source": [],
      "metadata": {
        "id": "UmnzujPqf0MG"
      },
      "execution_count": null,
      "outputs": []
    }
  ]
}