{
  "nbformat": 4,
  "nbformat_minor": 0,
  "metadata": {
    "colab": {
      "provenance": []
    },
    "kernelspec": {
      "name": "python3",
      "display_name": "Python 3"
    },
    "language_info": {
      "name": "python"
    }
  },
  "cells": [
    {
      "cell_type": "code",
      "execution_count": null,
      "metadata": {
        "id": "kacVLV8yQPVi"
      },
      "outputs": [],
      "source": [
        "import pandas as pd\n",
        "\n"
      ]
    },
    {
      "cell_type": "code",
      "source": [
        "# Load the raw dataset\n",
        "data = pd.DataFrame({\n",
        "    \"Height\": [65.8, 71.5, 69.4, 68.2, 67.8, 68.7, 69.8, 70.1, 67.9, 66.8],\n",
        "    \"Weight\": [112, 136, 153, 142, 144, 123, 141, 136, 112, 120],\n",
        "    \"Age\": [30, 19, 45, 22, 29, 50, 51, 23, 17, 39],\n",
        "    \"Grip Strength\": [30, 31, 29, 28, 24, 26, 22, 20, 19, 31],\n",
        "    \"Frailty\": [\"N\", \"N\", \"N\", \"Y\", \"Y\", \"N\", \"Y\", \"Y\", \"N\", \"N\"]\n",
        "})\n",
        "\n",
        "# Convert \"Frailty\" column to binary (1 for Yes, 0 for No)\n",
        "data[\"Frailty\"] = data[\"Frailty\"].map({\"N\": 0, \"Y\": 1})\n",
        "\n",
        "# Check for missing values\n",
        "missing_values = data.isnull().sum()\n",
        "\n",
        "# Save the cleaned dataset\n",
        "cleaned_file = \"cleaned_datA.csv\"\n",
        "data.to_csv(cleaned_file, index=False)\n",
        "\n",
        "# Print summary\n",
        "print(f\"✅ Data cleaning complete. Cleaned dataset saved to {cleaned_file}\")\n",
        "print(\"\\nMissing Values Check:\\n\", missing_values)\n",
        "print(\"\\nPreview of Cleaned Data:\\n\", data.head())\n"
      ],
      "metadata": {
        "colab": {
          "base_uri": "https://localhost:8080/"
        },
        "id": "A6haC4zOQUT8",
        "outputId": "a9fa2d00-1210-47e4-d2e1-ac6cc4b634d4"
      },
      "execution_count": null,
      "outputs": [
        {
          "output_type": "stream",
          "name": "stdout",
          "text": [
            "✅ Data cleaning complete. Cleaned dataset saved to cleaned_datA.csv\n",
            "\n",
            "Missing Values Check:\n",
            " Height           0\n",
            "Weight           0\n",
            "Age              0\n",
            "Grip Strength    0\n",
            "Frailty          0\n",
            "dtype: int64\n",
            "\n",
            "Preview of Cleaned Data:\n",
            "    Height  Weight  Age  Grip Strength  Frailty\n",
            "0    65.8     112   30             30        0\n",
            "1    71.5     136   19             31        0\n",
            "2    69.4     153   45             29        0\n",
            "3    68.2     142   22             28        1\n",
            "4    67.8     144   29             24        1\n"
          ]
        }
      ]
    },
    {
      "cell_type": "code",
      "source": [],
      "metadata": {
        "id": "kpq5Y9vTQkTi"
      },
      "execution_count": null,
      "outputs": []
    }
  ]
}